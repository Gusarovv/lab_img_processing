{
 "cells": [
  {
   "cell_type": "markdown",
   "id": "65feb35e-c921-419a-a3ba-44535ac08ee4",
   "metadata": {},
   "source": [
    "# Лабораторная работа 1\n",
    "> Выполнена студентом: **Гусаров А.С. 22ВВИм2**\n",
    "> \n",
    "**Тема:** Введение в цифровую обработку изображений\n",
    "Цель лабораторной работы: получить навыки работы с линейной алгеброй и базовыми операциями с изображениями в Python.\n",
    "\n",
    "**Задание:** Сравнить две матрицы со случайными значениями на равенство\n",
    "\n"
   ]
  },
  {
   "cell_type": "markdown",
   "id": "e4be0b54-7ef4-4faa-b47e-0019330fdfa1",
   "metadata": {},
   "source": [
    "## Импорт зависимостей"
   ]
  },
  {
   "cell_type": "code",
   "execution_count": 1,
   "id": "dafc5f0d-a358-41a5-880f-953031d6be55",
   "metadata": {},
   "outputs": [],
   "source": [
    "import numpy as np"
   ]
  },
  {
   "cell_type": "markdown",
   "id": "d8b765bf-18e6-49dc-adec-95ffca730e30",
   "metadata": {},
   "source": [
    "## Создание матриц со случайными значениями и их сравнение"
   ]
  },
  {
   "cell_type": "code",
   "execution_count": 10,
   "id": "874ddb90-81a6-4e52-ab64-7c152a16c849",
   "metadata": {},
   "outputs": [
    {
     "data": {
      "text/plain": [
       "array([[0.04386101, 0.73195863],\n",
       "       [0.93699862, 0.51506425],\n",
       "       [0.0872661 , 0.01494037]])"
      ]
     },
     "execution_count": 10,
     "metadata": {},
     "output_type": "execute_result"
    }
   ],
   "source": [
    "f = np.random.rand(3,2)\n",
    "f"
   ]
  },
  {
   "cell_type": "code",
   "execution_count": 11,
   "id": "6a404de4-8607-4512-b4fb-c4095242f600",
   "metadata": {},
   "outputs": [
    {
     "data": {
      "text/plain": [
       "array([[0.35163751, 0.13886205],\n",
       "       [0.20767288, 0.53994549],\n",
       "       [0.16792975, 0.04012326]])"
      ]
     },
     "execution_count": 11,
     "metadata": {},
     "output_type": "execute_result"
    }
   ],
   "source": [
    "f2 = np.random.rand(3,2)\n",
    "f2"
   ]
  },
  {
   "cell_type": "code",
   "execution_count": 15,
   "id": "1cc545ec-be54-4b03-b40a-043d3923ccdb",
   "metadata": {},
   "outputs": [
    {
     "data": {
      "text/plain": [
       "False"
      ]
     },
     "execution_count": 15,
     "metadata": {},
     "output_type": "execute_result"
    }
   ],
   "source": [
    "np.array_equal(f,f2)"
   ]
  },
  {
   "cell_type": "markdown",
   "id": "ee4ad36b-ced5-4f32-a4bb-4f1ecd14ecb8",
   "metadata": {},
   "source": [
    "## Создание матриц со одинаковыми значениями и их сравнение"
   ]
  },
  {
   "cell_type": "code",
   "execution_count": 16,
   "id": "850aa436-efab-4da9-84ca-a6f865b62bff",
   "metadata": {},
   "outputs": [],
   "source": [
    "f3 = np.array([[1., 2., 3.],\n",
    "              [4., 5., 6.],\n",
    "              [7., 8., 9.]])"
   ]
  },
  {
   "cell_type": "code",
   "execution_count": 17,
   "id": "3806b0d2-e08b-4b78-838b-caffbfd89fa6",
   "metadata": {},
   "outputs": [],
   "source": [
    "f4 = np.array([[1., 2., 3.],\n",
    "              [4., 5., 6.],\n",
    "              [7., 8., 9.]])"
   ]
  },
  {
   "cell_type": "code",
   "execution_count": 20,
   "id": "fd0974ae-3b78-4236-b25c-03e2c41d5960",
   "metadata": {},
   "outputs": [
    {
     "data": {
      "text/plain": [
       "True"
      ]
     },
     "execution_count": 20,
     "metadata": {},
     "output_type": "execute_result"
    }
   ],
   "source": [
    "np.array_equal(f3,f4)"
   ]
  },
  {
   "cell_type": "markdown",
   "id": "ad163937-5766-46d9-b345-779118f41ed4",
   "metadata": {},
   "source": [
    "## Вывод:\n",
    "Изучены методы работа с библиотекой numpy\n",
    "В работораторной работе были использованы методы:\n",
    "- `array` для создания матриц\n",
    "- `random.rand` для генерации случаных значений\n",
    "- `array_equal` для сравнение матриц"
   ]
  }
 ],
 "metadata": {
  "kernelspec": {
   "display_name": "Python 3 (ipykernel)",
   "language": "python",
   "name": "python3"
  },
  "language_info": {
   "codemirror_mode": {
    "name": "ipython",
    "version": 3
   },
   "file_extension": ".py",
   "mimetype": "text/x-python",
   "name": "python",
   "nbconvert_exporter": "python",
   "pygments_lexer": "ipython3",
   "version": "3.11.5"
  }
 },
 "nbformat": 4,
 "nbformat_minor": 5
}
